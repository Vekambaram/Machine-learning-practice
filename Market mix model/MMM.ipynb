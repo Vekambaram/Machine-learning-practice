{
 "cells": [
  {
   "cell_type": "code",
   "execution_count": 1,
   "metadata": {},
   "outputs": [],
   "source": [
    "import pandas as pd\n",
    "import numpy as np\n",
    "import matplotlib.pyplot as plt\n",
    "import seaborn as sns"
   ]
  },
  {
   "cell_type": "code",
   "execution_count": 63,
   "metadata": {},
   "outputs": [],
   "source": [
    "df = pd.read_excel('MMM.xlsx')"
   ]
  },
  {
   "cell_type": "code",
   "execution_count": 109,
   "metadata": {},
   "outputs": [
    {
     "data": {
      "text/html": [
       "<div>\n",
       "<style scoped>\n",
       "    .dataframe tbody tr th:only-of-type {\n",
       "        vertical-align: middle;\n",
       "    }\n",
       "\n",
       "    .dataframe tbody tr th {\n",
       "        vertical-align: top;\n",
       "    }\n",
       "\n",
       "    .dataframe thead th {\n",
       "        text-align: right;\n",
       "    }\n",
       "</style>\n",
       "<table border=\"1\" class=\"dataframe\">\n",
       "  <thead>\n",
       "    <tr style=\"text-align: right;\">\n",
       "      <th></th>\n",
       "      <th>Brand ID</th>\n",
       "      <th>Year</th>\n",
       "      <th>Absolut</th>\n",
       "      <th>Aristocrat</th>\n",
       "      <th>Barton</th>\n",
       "      <th>Belvedere</th>\n",
       "      <th>Burnett</th>\n",
       "      <th>Chopin</th>\n",
       "      <th>Crystal Palac</th>\n",
       "      <th>Finlandia</th>\n",
       "      <th>...</th>\n",
       "      <th>LagTotalMinusSales</th>\n",
       "      <th>TierSales</th>\n",
       "      <th>OutsideTierSales</th>\n",
       "      <th>LagTierSales</th>\n",
       "      <th>LagOutsideTierSales</th>\n",
       "      <th>Firstintro</th>\n",
       "      <th>Marketshare</th>\n",
       "      <th>LagMktshare</th>\n",
       "      <th>YearID</th>\n",
       "      <th>total ad</th>\n",
       "    </tr>\n",
       "  </thead>\n",
       "  <tbody>\n",
       "    <tr>\n",
       "      <th>count</th>\n",
       "      <td>263.000000</td>\n",
       "      <td>263.000000</td>\n",
       "      <td>263.000000</td>\n",
       "      <td>263.000000</td>\n",
       "      <td>263.000000</td>\n",
       "      <td>263.000000</td>\n",
       "      <td>263.000000</td>\n",
       "      <td>263.000000</td>\n",
       "      <td>263.000000</td>\n",
       "      <td>263.000000</td>\n",
       "      <td>...</td>\n",
       "      <td>263.000000</td>\n",
       "      <td>263.000000</td>\n",
       "      <td>263.000000</td>\n",
       "      <td>263.000000</td>\n",
       "      <td>263.000000</td>\n",
       "      <td>263.000000</td>\n",
       "      <td>263.000000</td>\n",
       "      <td>263.000000</td>\n",
       "      <td>263.000000</td>\n",
       "      <td>263.000000</td>\n",
       "    </tr>\n",
       "    <tr>\n",
       "      <th>mean</th>\n",
       "      <td>12.596958</td>\n",
       "      <td>2001.695817</td>\n",
       "      <td>0.049430</td>\n",
       "      <td>0.049430</td>\n",
       "      <td>0.049430</td>\n",
       "      <td>0.026616</td>\n",
       "      <td>0.041825</td>\n",
       "      <td>0.026616</td>\n",
       "      <td>0.049430</td>\n",
       "      <td>0.049430</td>\n",
       "      <td>...</td>\n",
       "      <td>62673.935361</td>\n",
       "      <td>9547.235741</td>\n",
       "      <td>53106.615970</td>\n",
       "      <td>9215.528517</td>\n",
       "      <td>53458.406844</td>\n",
       "      <td>0.015209</td>\n",
       "      <td>0.046972</td>\n",
       "      <td>0.047470</td>\n",
       "      <td>9.695817</td>\n",
       "      <td>7386.359312</td>\n",
       "    </tr>\n",
       "    <tr>\n",
       "      <th>std</th>\n",
       "      <td>7.654584</td>\n",
       "      <td>3.639093</td>\n",
       "      <td>0.217177</td>\n",
       "      <td>0.217177</td>\n",
       "      <td>0.217177</td>\n",
       "      <td>0.161265</td>\n",
       "      <td>0.200571</td>\n",
       "      <td>0.161265</td>\n",
       "      <td>0.217177</td>\n",
       "      <td>0.217177</td>\n",
       "      <td>...</td>\n",
       "      <td>1548.346560</td>\n",
       "      <td>2917.310122</td>\n",
       "      <td>2259.775837</td>\n",
       "      <td>2946.563257</td>\n",
       "      <td>2327.430916</td>\n",
       "      <td>0.122617</td>\n",
       "      <td>0.053831</td>\n",
       "      <td>0.054685</td>\n",
       "      <td>3.639093</td>\n",
       "      <td>14280.852135</td>\n",
       "    </tr>\n",
       "    <tr>\n",
       "      <th>min</th>\n",
       "      <td>1.000000</td>\n",
       "      <td>1995.000000</td>\n",
       "      <td>0.000000</td>\n",
       "      <td>0.000000</td>\n",
       "      <td>0.000000</td>\n",
       "      <td>0.000000</td>\n",
       "      <td>0.000000</td>\n",
       "      <td>0.000000</td>\n",
       "      <td>0.000000</td>\n",
       "      <td>0.000000</td>\n",
       "      <td>...</td>\n",
       "      <td>55687.000000</td>\n",
       "      <td>846.000000</td>\n",
       "      <td>48358.000000</td>\n",
       "      <td>697.000000</td>\n",
       "      <td>49806.000000</td>\n",
       "      <td>0.000000</td>\n",
       "      <td>0.001468</td>\n",
       "      <td>0.000971</td>\n",
       "      <td>3.000000</td>\n",
       "      <td>6.000000</td>\n",
       "    </tr>\n",
       "    <tr>\n",
       "      <th>25%</th>\n",
       "      <td>6.000000</td>\n",
       "      <td>1999.000000</td>\n",
       "      <td>0.000000</td>\n",
       "      <td>0.000000</td>\n",
       "      <td>0.000000</td>\n",
       "      <td>0.000000</td>\n",
       "      <td>0.000000</td>\n",
       "      <td>0.000000</td>\n",
       "      <td>0.000000</td>\n",
       "      <td>0.000000</td>\n",
       "      <td>...</td>\n",
       "      <td>62459.000000</td>\n",
       "      <td>8151.500000</td>\n",
       "      <td>51863.000000</td>\n",
       "      <td>7493.000000</td>\n",
       "      <td>51947.000000</td>\n",
       "      <td>0.000000</td>\n",
       "      <td>0.014762</td>\n",
       "      <td>0.014655</td>\n",
       "      <td>7.000000</td>\n",
       "      <td>6.000000</td>\n",
       "    </tr>\n",
       "    <tr>\n",
       "      <th>50%</th>\n",
       "      <td>12.000000</td>\n",
       "      <td>2002.000000</td>\n",
       "      <td>0.000000</td>\n",
       "      <td>0.000000</td>\n",
       "      <td>0.000000</td>\n",
       "      <td>0.000000</td>\n",
       "      <td>0.000000</td>\n",
       "      <td>0.000000</td>\n",
       "      <td>0.000000</td>\n",
       "      <td>0.000000</td>\n",
       "      <td>...</td>\n",
       "      <td>63204.000000</td>\n",
       "      <td>10605.000000</td>\n",
       "      <td>52335.000000</td>\n",
       "      <td>10400.000000</td>\n",
       "      <td>52419.000000</td>\n",
       "      <td>0.000000</td>\n",
       "      <td>0.029463</td>\n",
       "      <td>0.029181</td>\n",
       "      <td>10.000000</td>\n",
       "      <td>6.000000</td>\n",
       "    </tr>\n",
       "    <tr>\n",
       "      <th>75%</th>\n",
       "      <td>18.000000</td>\n",
       "      <td>2005.000000</td>\n",
       "      <td>0.000000</td>\n",
       "      <td>0.000000</td>\n",
       "      <td>0.000000</td>\n",
       "      <td>0.000000</td>\n",
       "      <td>0.000000</td>\n",
       "      <td>0.000000</td>\n",
       "      <td>0.000000</td>\n",
       "      <td>0.000000</td>\n",
       "      <td>...</td>\n",
       "      <td>63616.000000</td>\n",
       "      <td>11209.000000</td>\n",
       "      <td>54570.000000</td>\n",
       "      <td>11127.500000</td>\n",
       "      <td>55392.000000</td>\n",
       "      <td>0.000000</td>\n",
       "      <td>0.053087</td>\n",
       "      <td>0.053633</td>\n",
       "      <td>13.000000</td>\n",
       "      <td>9691.400000</td>\n",
       "    </tr>\n",
       "    <tr>\n",
       "      <th>max</th>\n",
       "      <td>31.000000</td>\n",
       "      <td>2007.000000</td>\n",
       "      <td>1.000000</td>\n",
       "      <td>1.000000</td>\n",
       "      <td>1.000000</td>\n",
       "      <td>1.000000</td>\n",
       "      <td>1.000000</td>\n",
       "      <td>1.000000</td>\n",
       "      <td>1.000000</td>\n",
       "      <td>1.000000</td>\n",
       "      <td>...</td>\n",
       "      <td>64131.000000</td>\n",
       "      <td>15790.000000</td>\n",
       "      <td>59760.000000</td>\n",
       "      <td>14299.000000</td>\n",
       "      <td>59868.000000</td>\n",
       "      <td>1.000000</td>\n",
       "      <td>0.270477</td>\n",
       "      <td>0.270477</td>\n",
       "      <td>15.000000</td>\n",
       "      <td>70489.200000</td>\n",
       "    </tr>\n",
       "  </tbody>\n",
       "</table>\n",
       "<p>8 rows × 66 columns</p>\n",
       "</div>"
      ],
      "text/plain": [
       "         Brand ID         Year     Absolut  Aristocrat      Barton  \\\n",
       "count  263.000000   263.000000  263.000000  263.000000  263.000000   \n",
       "mean    12.596958  2001.695817    0.049430    0.049430    0.049430   \n",
       "std      7.654584     3.639093    0.217177    0.217177    0.217177   \n",
       "min      1.000000  1995.000000    0.000000    0.000000    0.000000   \n",
       "25%      6.000000  1999.000000    0.000000    0.000000    0.000000   \n",
       "50%     12.000000  2002.000000    0.000000    0.000000    0.000000   \n",
       "75%     18.000000  2005.000000    0.000000    0.000000    0.000000   \n",
       "max     31.000000  2007.000000    1.000000    1.000000    1.000000   \n",
       "\n",
       "        Belvedere     Burnett      Chopin  Crystal Palac   Finlandia  \\\n",
       "count  263.000000  263.000000  263.000000     263.000000  263.000000   \n",
       "mean     0.026616    0.041825    0.026616       0.049430    0.049430   \n",
       "std      0.161265    0.200571    0.161265       0.217177    0.217177   \n",
       "min      0.000000    0.000000    0.000000       0.000000    0.000000   \n",
       "25%      0.000000    0.000000    0.000000       0.000000    0.000000   \n",
       "50%      0.000000    0.000000    0.000000       0.000000    0.000000   \n",
       "75%      0.000000    0.000000    0.000000       0.000000    0.000000   \n",
       "max      1.000000    1.000000    1.000000       1.000000    1.000000   \n",
       "\n",
       "           ...       LagTotalMinusSales     TierSales  OutsideTierSales  \\\n",
       "count      ...               263.000000    263.000000        263.000000   \n",
       "mean       ...             62673.935361   9547.235741      53106.615970   \n",
       "std        ...              1548.346560   2917.310122       2259.775837   \n",
       "min        ...             55687.000000    846.000000      48358.000000   \n",
       "25%        ...             62459.000000   8151.500000      51863.000000   \n",
       "50%        ...             63204.000000  10605.000000      52335.000000   \n",
       "75%        ...             63616.000000  11209.000000      54570.000000   \n",
       "max        ...             64131.000000  15790.000000      59760.000000   \n",
       "\n",
       "       LagTierSales  LagOutsideTierSales  Firstintro  Marketshare  \\\n",
       "count    263.000000           263.000000  263.000000   263.000000   \n",
       "mean    9215.528517         53458.406844    0.015209     0.046972   \n",
       "std     2946.563257          2327.430916    0.122617     0.053831   \n",
       "min      697.000000         49806.000000    0.000000     0.001468   \n",
       "25%     7493.000000         51947.000000    0.000000     0.014762   \n",
       "50%    10400.000000         52419.000000    0.000000     0.029463   \n",
       "75%    11127.500000         55392.000000    0.000000     0.053087   \n",
       "max    14299.000000         59868.000000    1.000000     0.270477   \n",
       "\n",
       "       LagMktshare      YearID      total ad  \n",
       "count   263.000000  263.000000    263.000000  \n",
       "mean      0.047470    9.695817   7386.359312  \n",
       "std       0.054685    3.639093  14280.852135  \n",
       "min       0.000971    3.000000      6.000000  \n",
       "25%       0.014655    7.000000      6.000000  \n",
       "50%       0.029181   10.000000      6.000000  \n",
       "75%       0.053633   13.000000   9691.400000  \n",
       "max       0.270477   15.000000  70489.200000  \n",
       "\n",
       "[8 rows x 66 columns]"
      ]
     },
     "execution_count": 109,
     "metadata": {},
     "output_type": "execute_result"
    }
   ],
   "source": [
    "df.describe()"
   ]
  },
  {
   "cell_type": "code",
   "execution_count": 3,
   "metadata": {},
   "outputs": [
    {
     "data": {
      "text/html": [
       "<div>\n",
       "<style scoped>\n",
       "    .dataframe tbody tr th:only-of-type {\n",
       "        vertical-align: middle;\n",
       "    }\n",
       "\n",
       "    .dataframe tbody tr th {\n",
       "        vertical-align: top;\n",
       "    }\n",
       "\n",
       "    .dataframe thead th {\n",
       "        text-align: right;\n",
       "    }\n",
       "</style>\n",
       "<table border=\"1\" class=\"dataframe\">\n",
       "  <thead>\n",
       "    <tr style=\"text-align: right;\">\n",
       "      <th></th>\n",
       "      <th>BrandName</th>\n",
       "      <th>Brand ID</th>\n",
       "      <th>Year</th>\n",
       "      <th>Absolut</th>\n",
       "      <th>Aristocrat</th>\n",
       "      <th>Barton</th>\n",
       "      <th>Belvedere</th>\n",
       "      <th>Burnett</th>\n",
       "      <th>Chopin</th>\n",
       "      <th>Crystal Palac</th>\n",
       "      <th>...</th>\n",
       "      <th>LagTotalMinusSales</th>\n",
       "      <th>TierSales</th>\n",
       "      <th>OutsideTierSales</th>\n",
       "      <th>LagTierSales</th>\n",
       "      <th>LagOutsideTierSales</th>\n",
       "      <th>Firstintro</th>\n",
       "      <th>Marketshare</th>\n",
       "      <th>LagMktshare</th>\n",
       "      <th>YearID</th>\n",
       "      <th>total ad</th>\n",
       "    </tr>\n",
       "  </thead>\n",
       "  <tbody>\n",
       "    <tr>\n",
       "      <th>0</th>\n",
       "      <td>Absolut</td>\n",
       "      <td>15</td>\n",
       "      <td>1995</td>\n",
       "      <td>1</td>\n",
       "      <td>0</td>\n",
       "      <td>0</td>\n",
       "      <td>0</td>\n",
       "      <td>0</td>\n",
       "      <td>0</td>\n",
       "      <td>0</td>\n",
       "      <td>...</td>\n",
       "      <td>60903</td>\n",
       "      <td>1080</td>\n",
       "      <td>59760</td>\n",
       "      <td>1035</td>\n",
       "      <td>59868</td>\n",
       "      <td>0</td>\n",
       "      <td>0.133923</td>\n",
       "      <td>0.124241</td>\n",
       "      <td>3</td>\n",
       "      <td>52343.9</td>\n",
       "    </tr>\n",
       "    <tr>\n",
       "      <th>1</th>\n",
       "      <td>Absolut</td>\n",
       "      <td>15</td>\n",
       "      <td>1996</td>\n",
       "      <td>1</td>\n",
       "      <td>0</td>\n",
       "      <td>0</td>\n",
       "      <td>0</td>\n",
       "      <td>0</td>\n",
       "      <td>0</td>\n",
       "      <td>0</td>\n",
       "      <td>...</td>\n",
       "      <td>60840</td>\n",
       "      <td>1255</td>\n",
       "      <td>59277</td>\n",
       "      <td>1080</td>\n",
       "      <td>59760</td>\n",
       "      <td>0</td>\n",
       "      <td>0.142007</td>\n",
       "      <td>0.133923</td>\n",
       "      <td>4</td>\n",
       "      <td>52297.2</td>\n",
       "    </tr>\n",
       "    <tr>\n",
       "      <th>2</th>\n",
       "      <td>Absolut</td>\n",
       "      <td>15</td>\n",
       "      <td>1997</td>\n",
       "      <td>1</td>\n",
       "      <td>0</td>\n",
       "      <td>0</td>\n",
       "      <td>0</td>\n",
       "      <td>0</td>\n",
       "      <td>0</td>\n",
       "      <td>0</td>\n",
       "      <td>...</td>\n",
       "      <td>60532</td>\n",
       "      <td>1532</td>\n",
       "      <td>58932</td>\n",
       "      <td>1255</td>\n",
       "      <td>59277</td>\n",
       "      <td>0</td>\n",
       "      <td>0.146758</td>\n",
       "      <td>0.142007</td>\n",
       "      <td>5</td>\n",
       "      <td>54947.9</td>\n",
       "    </tr>\n",
       "    <tr>\n",
       "      <th>3</th>\n",
       "      <td>Absolut</td>\n",
       "      <td>15</td>\n",
       "      <td>1998</td>\n",
       "      <td>1</td>\n",
       "      <td>0</td>\n",
       "      <td>0</td>\n",
       "      <td>0</td>\n",
       "      <td>0</td>\n",
       "      <td>0</td>\n",
       "      <td>0</td>\n",
       "      <td>...</td>\n",
       "      <td>60464</td>\n",
       "      <td>1730</td>\n",
       "      <td>58576</td>\n",
       "      <td>1532</td>\n",
       "      <td>58932</td>\n",
       "      <td>0</td>\n",
       "      <td>0.146106</td>\n",
       "      <td>0.146758</td>\n",
       "      <td>6</td>\n",
       "      <td>57432.7</td>\n",
       "    </tr>\n",
       "    <tr>\n",
       "      <th>4</th>\n",
       "      <td>Absolut</td>\n",
       "      <td>15</td>\n",
       "      <td>1999</td>\n",
       "      <td>1</td>\n",
       "      <td>0</td>\n",
       "      <td>0</td>\n",
       "      <td>0</td>\n",
       "      <td>0</td>\n",
       "      <td>0</td>\n",
       "      <td>0</td>\n",
       "      <td>...</td>\n",
       "      <td>60306</td>\n",
       "      <td>2118</td>\n",
       "      <td>57800</td>\n",
       "      <td>1730</td>\n",
       "      <td>58576</td>\n",
       "      <td>0</td>\n",
       "      <td>0.161284</td>\n",
       "      <td>0.146106</td>\n",
       "      <td>7</td>\n",
       "      <td>63213.9</td>\n",
       "    </tr>\n",
       "    <tr>\n",
       "      <th>5</th>\n",
       "      <td>Absolut</td>\n",
       "      <td>15</td>\n",
       "      <td>2000</td>\n",
       "      <td>1</td>\n",
       "      <td>0</td>\n",
       "      <td>0</td>\n",
       "      <td>0</td>\n",
       "      <td>0</td>\n",
       "      <td>0</td>\n",
       "      <td>0</td>\n",
       "      <td>...</td>\n",
       "      <td>59918</td>\n",
       "      <td>2549</td>\n",
       "      <td>56846</td>\n",
       "      <td>2118</td>\n",
       "      <td>57800</td>\n",
       "      <td>0</td>\n",
       "      <td>0.173368</td>\n",
       "      <td>0.161284</td>\n",
       "      <td>8</td>\n",
       "      <td>70489.2</td>\n",
       "    </tr>\n",
       "    <tr>\n",
       "      <th>6</th>\n",
       "      <td>Absolut</td>\n",
       "      <td>15</td>\n",
       "      <td>2001</td>\n",
       "      <td>1</td>\n",
       "      <td>0</td>\n",
       "      <td>0</td>\n",
       "      <td>0</td>\n",
       "      <td>0</td>\n",
       "      <td>0</td>\n",
       "      <td>0</td>\n",
       "      <td>...</td>\n",
       "      <td>59395</td>\n",
       "      <td>3358</td>\n",
       "      <td>56295</td>\n",
       "      <td>2549</td>\n",
       "      <td>56846</td>\n",
       "      <td>0</td>\n",
       "      <td>0.157546</td>\n",
       "      <td>0.173368</td>\n",
       "      <td>9</td>\n",
       "      <td>59715.4</td>\n",
       "    </tr>\n",
       "    <tr>\n",
       "      <th>7</th>\n",
       "      <td>Absolut</td>\n",
       "      <td>15</td>\n",
       "      <td>2002</td>\n",
       "      <td>1</td>\n",
       "      <td>0</td>\n",
       "      <td>0</td>\n",
       "      <td>0</td>\n",
       "      <td>0</td>\n",
       "      <td>0</td>\n",
       "      <td>0</td>\n",
       "      <td>...</td>\n",
       "      <td>59653</td>\n",
       "      <td>4197</td>\n",
       "      <td>55392</td>\n",
       "      <td>3358</td>\n",
       "      <td>56295</td>\n",
       "      <td>0</td>\n",
       "      <td>0.150425</td>\n",
       "      <td>0.157546</td>\n",
       "      <td>10</td>\n",
       "      <td>62148.3</td>\n",
       "    </tr>\n",
       "    <tr>\n",
       "      <th>8</th>\n",
       "      <td>Absolut</td>\n",
       "      <td>15</td>\n",
       "      <td>2003</td>\n",
       "      <td>1</td>\n",
       "      <td>0</td>\n",
       "      <td>0</td>\n",
       "      <td>0</td>\n",
       "      <td>0</td>\n",
       "      <td>0</td>\n",
       "      <td>0</td>\n",
       "      <td>...</td>\n",
       "      <td>59589</td>\n",
       "      <td>4939</td>\n",
       "      <td>54669</td>\n",
       "      <td>4197</td>\n",
       "      <td>55392</td>\n",
       "      <td>0</td>\n",
       "      <td>0.139245</td>\n",
       "      <td>0.150425</td>\n",
       "      <td>11</td>\n",
       "      <td>63602.1</td>\n",
       "    </tr>\n",
       "    <tr>\n",
       "      <th>9</th>\n",
       "      <td>Absolut</td>\n",
       "      <td>15</td>\n",
       "      <td>2004</td>\n",
       "      <td>1</td>\n",
       "      <td>0</td>\n",
       "      <td>0</td>\n",
       "      <td>0</td>\n",
       "      <td>0</td>\n",
       "      <td>0</td>\n",
       "      <td>0</td>\n",
       "      <td>...</td>\n",
       "      <td>59608</td>\n",
       "      <td>5582</td>\n",
       "      <td>53906</td>\n",
       "      <td>4939</td>\n",
       "      <td>54669</td>\n",
       "      <td>0</td>\n",
       "      <td>0.134353</td>\n",
       "      <td>0.139245</td>\n",
       "      <td>12</td>\n",
       "      <td>66816.3</td>\n",
       "    </tr>\n",
       "  </tbody>\n",
       "</table>\n",
       "<p>10 rows × 67 columns</p>\n",
       "</div>"
      ],
      "text/plain": [
       "  BrandName  Brand ID  Year  Absolut  Aristocrat  Barton  Belvedere  Burnett  \\\n",
       "0   Absolut        15  1995        1           0       0          0        0   \n",
       "1   Absolut        15  1996        1           0       0          0        0   \n",
       "2   Absolut        15  1997        1           0       0          0        0   \n",
       "3   Absolut        15  1998        1           0       0          0        0   \n",
       "4   Absolut        15  1999        1           0       0          0        0   \n",
       "5   Absolut        15  2000        1           0       0          0        0   \n",
       "6   Absolut        15  2001        1           0       0          0        0   \n",
       "7   Absolut        15  2002        1           0       0          0        0   \n",
       "8   Absolut        15  2003        1           0       0          0        0   \n",
       "9   Absolut        15  2004        1           0       0          0        0   \n",
       "\n",
       "   Chopin  Crystal Palac    ...     LagTotalMinusSales  TierSales  \\\n",
       "0       0              0    ...                  60903       1080   \n",
       "1       0              0    ...                  60840       1255   \n",
       "2       0              0    ...                  60532       1532   \n",
       "3       0              0    ...                  60464       1730   \n",
       "4       0              0    ...                  60306       2118   \n",
       "5       0              0    ...                  59918       2549   \n",
       "6       0              0    ...                  59395       3358   \n",
       "7       0              0    ...                  59653       4197   \n",
       "8       0              0    ...                  59589       4939   \n",
       "9       0              0    ...                  59608       5582   \n",
       "\n",
       "   OutsideTierSales  LagTierSales  LagOutsideTierSales  Firstintro  \\\n",
       "0             59760          1035                59868           0   \n",
       "1             59277          1080                59760           0   \n",
       "2             58932          1255                59277           0   \n",
       "3             58576          1532                58932           0   \n",
       "4             57800          1730                58576           0   \n",
       "5             56846          2118                57800           0   \n",
       "6             56295          2549                56846           0   \n",
       "7             55392          3358                56295           0   \n",
       "8             54669          4197                55392           0   \n",
       "9             53906          4939                54669           0   \n",
       "\n",
       "   Marketshare  LagMktshare  YearID  total ad  \n",
       "0     0.133923     0.124241       3   52343.9  \n",
       "1     0.142007     0.133923       4   52297.2  \n",
       "2     0.146758     0.142007       5   54947.9  \n",
       "3     0.146106     0.146758       6   57432.7  \n",
       "4     0.161284     0.146106       7   63213.9  \n",
       "5     0.173368     0.161284       8   70489.2  \n",
       "6     0.157546     0.173368       9   59715.4  \n",
       "7     0.150425     0.157546      10   62148.3  \n",
       "8     0.139245     0.150425      11   63602.1  \n",
       "9     0.134353     0.139245      12   66816.3  \n",
       "\n",
       "[10 rows x 67 columns]"
      ]
     },
     "execution_count": 3,
     "metadata": {},
     "output_type": "execute_result"
    }
   ],
   "source": [
    "df.head(10)"
   ]
  },
  {
   "cell_type": "code",
   "execution_count": 6,
   "metadata": {},
   "outputs": [
    {
     "data": {
      "text/plain": [
       "Index(['BrandName', 'Brand ID', 'Year', 'Absolut', 'Aristocrat', 'Barton',\n",
       "       'Belvedere', 'Burnett', 'Chopin', 'Crystal Palac', 'Finlandia',\n",
       "       'Fleischmann's', 'Fris', 'Gilbey's', 'Gordon's', 'Grey Goose',\n",
       "       'Kamchatka', 'Ketel One', 'Level', 'McCormick', 'Polar Ice', 'Popov',\n",
       "       'Pravda', 'Seagram's', 'Skol', 'Sky', 'Smirnoff', 'Stolicnaya',\n",
       "       'Tanqueray', 'Three Olives', 'TotalSales', 'LagTotalSales',\n",
       "       '2LagTotalSales', 'LnSales', 'LnLSales', 'Ln2Lsales', 'LnDiff', 'diff',\n",
       "       'IfDom', 'DollarSales', 'PriceRerUnit', 'LagPrice', 'LnPrice',\n",
       "       'LnLPrice', 'Mag', 'News', 'Outdoor', 'Broad', 'Print', 'LnMag',\n",
       "       'LnNews', 'LnOut', 'LnBroad', 'LnPrint', 'Tier1', 'Tier2',\n",
       "       'TotalMinusSales', 'LagTotalMinusSales', 'TierSales',\n",
       "       'OutsideTierSales', 'LagTierSales', 'LagOutsideTierSales', 'Firstintro',\n",
       "       'Marketshare', 'LagMktshare', 'YearID', 'total ad'],\n",
       "      dtype='object')"
      ]
     },
     "execution_count": 6,
     "metadata": {},
     "output_type": "execute_result"
    }
   ],
   "source": [
    "df.columns"
   ]
  },
  {
   "cell_type": "code",
   "execution_count": 26,
   "metadata": {},
   "outputs": [
    {
     "data": {
      "text/html": [
       "<div>\n",
       "<style scoped>\n",
       "    .dataframe tbody tr th:only-of-type {\n",
       "        vertical-align: middle;\n",
       "    }\n",
       "\n",
       "    .dataframe tbody tr th {\n",
       "        vertical-align: top;\n",
       "    }\n",
       "\n",
       "    .dataframe thead th {\n",
       "        text-align: right;\n",
       "    }\n",
       "</style>\n",
       "<table border=\"1\" class=\"dataframe\">\n",
       "  <thead>\n",
       "    <tr style=\"text-align: right;\">\n",
       "      <th></th>\n",
       "      <th>TotalSales</th>\n",
       "      <th>LagTotalSales</th>\n",
       "      <th>2LagTotalSales</th>\n",
       "      <th>LnSales</th>\n",
       "      <th>LnLSales</th>\n",
       "      <th>Ln2Lsales</th>\n",
       "      <th>PriceRerUnit</th>\n",
       "      <th>LagPrice</th>\n",
       "      <th>LnPrice</th>\n",
       "      <th>LnLPrice</th>\n",
       "    </tr>\n",
       "  </thead>\n",
       "  <tbody>\n",
       "    <tr>\n",
       "      <th>0</th>\n",
       "      <td>3000</td>\n",
       "      <td>2905</td>\n",
       "      <td>2790</td>\n",
       "      <td>8.006368</td>\n",
       "      <td>7.974189</td>\n",
       "      <td>7.933797</td>\n",
       "      <td>117.3467</td>\n",
       "      <td>109.2943</td>\n",
       "      <td>4.765132</td>\n",
       "      <td>4.694044</td>\n",
       "    </tr>\n",
       "    <tr>\n",
       "      <th>1</th>\n",
       "      <td>3340</td>\n",
       "      <td>3000</td>\n",
       "      <td>2905</td>\n",
       "      <td>8.113726</td>\n",
       "      <td>8.006368</td>\n",
       "      <td>7.974189</td>\n",
       "      <td>110.8000</td>\n",
       "      <td>117.3467</td>\n",
       "      <td>4.707727</td>\n",
       "      <td>4.765133</td>\n",
       "    </tr>\n",
       "    <tr>\n",
       "      <th>2</th>\n",
       "      <td>3440</td>\n",
       "      <td>3340</td>\n",
       "      <td>3000</td>\n",
       "      <td>8.143227</td>\n",
       "      <td>8.113726</td>\n",
       "      <td>8.006368</td>\n",
       "      <td>110.8000</td>\n",
       "      <td>110.8000</td>\n",
       "      <td>4.707727</td>\n",
       "      <td>4.707727</td>\n",
       "    </tr>\n",
       "    <tr>\n",
       "      <th>3</th>\n",
       "      <td>3630</td>\n",
       "      <td>3440</td>\n",
       "      <td>3340</td>\n",
       "      <td>8.196988</td>\n",
       "      <td>8.143227</td>\n",
       "      <td>8.113726</td>\n",
       "      <td>115.6300</td>\n",
       "      <td>110.8000</td>\n",
       "      <td>4.750396</td>\n",
       "      <td>4.707727</td>\n",
       "    </tr>\n",
       "    <tr>\n",
       "      <th>4</th>\n",
       "      <td>4050</td>\n",
       "      <td>3630</td>\n",
       "      <td>3440</td>\n",
       "      <td>8.306472</td>\n",
       "      <td>8.196988</td>\n",
       "      <td>8.143227</td>\n",
       "      <td>115.6301</td>\n",
       "      <td>115.6300</td>\n",
       "      <td>4.750397</td>\n",
       "      <td>4.750395</td>\n",
       "    </tr>\n",
       "  </tbody>\n",
       "</table>\n",
       "</div>"
      ],
      "text/plain": [
       "   TotalSales  LagTotalSales  2LagTotalSales   LnSales  LnLSales  Ln2Lsales  \\\n",
       "0        3000           2905            2790  8.006368  7.974189   7.933797   \n",
       "1        3340           3000            2905  8.113726  8.006368   7.974189   \n",
       "2        3440           3340            3000  8.143227  8.113726   8.006368   \n",
       "3        3630           3440            3340  8.196988  8.143227   8.113726   \n",
       "4        4050           3630            3440  8.306472  8.196988   8.143227   \n",
       "\n",
       "   PriceRerUnit  LagPrice   LnPrice  LnLPrice  \n",
       "0      117.3467  109.2943  4.765132  4.694044  \n",
       "1      110.8000  117.3467  4.707727  4.765133  \n",
       "2      110.8000  110.8000  4.707727  4.707727  \n",
       "3      115.6300  110.8000  4.750396  4.707727  \n",
       "4      115.6301  115.6300  4.750397  4.750395  "
      ]
     },
     "execution_count": 26,
     "metadata": {},
     "output_type": "execute_result"
    }
   ],
   "source": [
    "df[['TotalSales','LagTotalSales','2LagTotalSales','LnSales','LnLSales','Ln2Lsales',\n",
    "   'PriceRerUnit','LagPrice','LnPrice','LnLPrice']].head(5)"
   ]
  },
  {
   "cell_type": "code",
   "execution_count": 29,
   "metadata": {},
   "outputs": [],
   "source": [
    "#np.log(df['LagTotalSales'])\n",
    "#df['TotalSales'].tail(5)"
   ]
  },
  {
   "cell_type": "code",
   "execution_count": 42,
   "metadata": {},
   "outputs": [
    {
     "data": {
      "text/plain": [
       "<matplotlib.collections.PathCollection at 0x239c3a4f9b0>"
      ]
     },
     "execution_count": 42,
     "metadata": {},
     "output_type": "execute_result"
    },
    {
     "data": {
      "image/png": "[encoded data removed]",
      "text/plain": [
       "<Figure size 432x288 with 1 Axes>"
      ]
     },
     "metadata": {},
     "output_type": "display_data"
    }
   ],
   "source": [
    "plt.scatter(x=df['PriceRerUnit'],y=df['TotalSales'])"
   ]
  },
  {
   "cell_type": "code",
   "execution_count": 60,
   "metadata": {},
   "outputs": [
    {
     "name": "stderr",
     "output_type": "stream",
     "text": [
      "C:\\Users\\yogesh\\Anaconda3\\lib\\site-packages\\statsmodels\\nonparametric\\kde.py:448: RuntimeWarning: invalid value encountered in greater\n",
      "  X = X[np.logical_and(X > clip[0], X < clip[1])] # won't work for two columns.\n",
      "C:\\Users\\yogesh\\Anaconda3\\lib\\site-packages\\statsmodels\\nonparametric\\kde.py:448: RuntimeWarning: invalid value encountered in less\n",
      "  X = X[np.logical_and(X > clip[0], X < clip[1])] # won't work for two columns.\n"
     ]
    },
    {
     "data": {
      "text/plain": [
       "<matplotlib.axes._subplots.AxesSubplot at 0x239c501d8d0>"
      ]
     },
     "execution_count": 60,
     "metadata": {},
     "output_type": "execute_result"
    },
    {
     "data": {
      "image/png": "[encoded data removed]",
      "text/plain": [
       "<Figure size 432x288 with 1 Axes>"
      ]
     },
     "metadata": {},
     "output_type": "display_data"
    }
   ],
   "source": [
    "#sns.kdeplot(df['PriceRerUnit'])\n",
    "#sns.kdeplot(df['LagPrice'])\n",
    "sns.kdeplot(df['LnPrice'])\n",
    "sns.kdeplot(df['LnLPrice'])"
   ]
  },
  {
   "cell_type": "code",
   "execution_count": 51,
   "metadata": {},
   "outputs": [],
   "source": [
    "# sns.kdeplot(df['TotalSales'])"
   ]
  },
  {
   "cell_type": "code",
   "execution_count": 48,
   "metadata": {},
   "outputs": [
    {
     "data": {
      "text/plain": [
       "<matplotlib.axes._subplots.AxesSubplot at 0x239c4c51c18>"
      ]
     },
     "execution_count": 48,
     "metadata": {},
     "output_type": "execute_result"
    },
    {
     "data": {
      "image/png": "[encoded data removed]",
      "text/plain": [
       "<Figure size 432x288 with 1 Axes>"
      ]
     },
     "metadata": {},
     "output_type": "display_data"
    }
   ],
   "source": [
    "sns.kdeplot(df['TotalSales'])\n",
    "sns.kdeplot(df['LagTotalSales'])\n",
    "sns.kdeplot(df['2LagTotalSales'])"
   ]
  },
  {
   "cell_type": "code",
   "execution_count": 50,
   "metadata": {},
   "outputs": [
    {
     "data": {
      "text/plain": [
       "<matplotlib.axes._subplots.AxesSubplot at 0x239c4d19860>"
      ]
     },
     "execution_count": 50,
     "metadata": {},
     "output_type": "execute_result"
    },
    {
     "data": {
      "image/png": "[encoded data removed]",
      "text/plain": [
       "<Figure size 432x288 with 1 Axes>"
      ]
     },
     "metadata": {},
     "output_type": "display_data"
    }
   ],
   "source": [
    "sns.kdeplot(df['LnSales'])\n",
    "sns.kdeplot(df['LnLSales'])\n",
    "sns.kdeplot(df['Ln2Lsales'])"
   ]
  },
  {
   "cell_type": "code",
   "execution_count": 41,
   "metadata": {},
   "outputs": [
    {
     "data": {
      "text/plain": [
       "<matplotlib.collections.PathCollection at 0x239c39eef28>"
      ]
     },
     "execution_count": 41,
     "metadata": {},
     "output_type": "execute_result"
    },
    {
     "data": {
      "image/png": "[encoded data removed]",
      "text/plain": [
       "<Figure size 432x288 with 1 Axes>"
      ]
     },
     "metadata": {},
     "output_type": "display_data"
    }
   ],
   "source": [
    "plt.scatter(x=df['2LagTotalSales'],y=df['TotalSales'])"
   ]
  },
  {
   "cell_type": "code",
   "execution_count": 15,
   "metadata": {},
   "outputs": [
    {
     "data": {
      "text/plain": [
       "<matplotlib.collections.PathCollection at 0x239c3027978>"
      ]
     },
     "execution_count": 15,
     "metadata": {},
     "output_type": "execute_result"
    },
    {
     "data": {
      "image/png": "[encoded data removed]",
      "text/plain": [
       "<Figure size 432x288 with 1 Axes>"
      ]
     },
     "metadata": {},
     "output_type": "display_data"
    }
   ],
   "source": [
    "plt.scatter(x=df['LnPrice'],y=df['TotalSales'])"
   ]
  },
  {
   "cell_type": "code",
   "execution_count": 16,
   "metadata": {},
   "outputs": [
    {
     "data": {
      "text/plain": [
       "<matplotlib.collections.PathCollection at 0x239c1af6dd8>"
      ]
     },
     "execution_count": 16,
     "metadata": {},
     "output_type": "execute_result"
    },
    {
     "data": {
      "image/png": "[encoded data removed]",
      "text/plain": [
       "<Figure size 432x288 with 1 Axes>"
      ]
     },
     "metadata": {},
     "output_type": "display_data"
    }
   ],
   "source": [
    "plt.scatter(x=df['LnPrice'],y=df['LnLSales'])"
   ]
  },
  {
   "cell_type": "code",
   "execution_count": 66,
   "metadata": {},
   "outputs": [],
   "source": [
    "brand_df = df[df['BrandName'] == 'Absolut']"
   ]
  },
  {
   "cell_type": "code",
   "execution_count": 68,
   "metadata": {},
   "outputs": [],
   "source": [
    "brand_df = brand_df[['LnPrice','LnSales']]"
   ]
  },
  {
   "cell_type": "code",
   "execution_count": 70,
   "metadata": {},
   "outputs": [
    {
     "data": {
      "text/plain": [
       "<matplotlib.axes._subplots.AxesSubplot at 0x239c523d400>"
      ]
     },
     "execution_count": 70,
     "metadata": {},
     "output_type": "execute_result"
    },
    {
     "data": {
      "image/png": "[encoded data removed]",
      "text/plain": [
       "<Figure size 432x288 with 1 Axes>"
      ]
     },
     "metadata": {},
     "output_type": "display_data"
    }
   ],
   "source": [
    "brand_df.plot()"
   ]
  },
  {
   "cell_type": "code",
   "execution_count": 72,
   "metadata": {},
   "outputs": [
    {
     "data": {
      "image/png": "[encoded data removed]",
      "text/plain": [
       "<Figure size 432x288 with 1 Axes>"
      ]
     },
     "metadata": {},
     "output_type": "display_data"
    }
   ],
   "source": [
    "plt.scatter(brand_df['LnPrice'],brand_df['LnSales'])\n",
    "plt.xlabel('Log of Price')\n",
    "plt.ylabel('Log of Sales')\n",
    "plt.show()"
   ]
  },
  {
   "cell_type": "code",
   "execution_count": 73,
   "metadata": {},
   "outputs": [],
   "source": [
    "import statsmodels.formula.api as sm"
   ]
  },
  {
   "cell_type": "code",
   "execution_count": 74,
   "metadata": {},
   "outputs": [],
   "source": [
    "result = sm.ols(formula = 'LnSales ~ LnPrice',data = brand_df).fit()"
   ]
  },
  {
   "cell_type": "code",
   "execution_count": 75,
   "metadata": {},
   "outputs": [
    {
     "name": "stderr",
     "output_type": "stream",
     "text": [
      "C:\\Users\\yogesh\\Anaconda3\\lib\\site-packages\\scipy\\stats\\stats.py:1394: UserWarning: kurtosistest only valid for n>=20 ... continuing anyway, n=13\n",
      "  \"anyway, n=%i\" % int(n))\n"
     ]
    },
    {
     "data": {
      "text/html": [
       "<table class=\"simpletable\">\n",
       "<caption>OLS Regression Results</caption>\n",
       "<tr>\n",
       "  <th>Dep. Variable:</th>         <td>LnSales</td>     <th>  R-squared:         </th> <td>   0.688</td>\n",
       "</tr>\n",
       "<tr>\n",
       "  <th>Model:</th>                   <td>OLS</td>       <th>  Adj. R-squared:    </th> <td>   0.660</td>\n",
       "</tr>\n",
       "<tr>\n",
       "  <th>Method:</th>             <td>Least Squares</td>  <th>  F-statistic:       </th> <td>   24.26</td>\n",
       "</tr>\n",
       "<tr>\n",
       "  <th>Date:</th>             <td>Fri, 18 Oct 2019</td> <th>  Prob (F-statistic):</th> <td>0.000453</td>\n",
       "</tr>\n",
       "<tr>\n",
       "  <th>Time:</th>                 <td>15:04:56</td>     <th>  Log-Likelihood:    </th> <td>  13.282</td>\n",
       "</tr>\n",
       "<tr>\n",
       "  <th>No. Observations:</th>      <td>    13</td>      <th>  AIC:               </th> <td>  -22.56</td>\n",
       "</tr>\n",
       "<tr>\n",
       "  <th>Df Residuals:</th>          <td>    11</td>      <th>  BIC:               </th> <td>  -21.43</td>\n",
       "</tr>\n",
       "<tr>\n",
       "  <th>Df Model:</th>              <td>     1</td>      <th>                     </th>     <td> </td>   \n",
       "</tr>\n",
       "<tr>\n",
       "  <th>Covariance Type:</th>      <td>nonrobust</td>    <th>                     </th>     <td> </td>   \n",
       "</tr>\n",
       "</table>\n",
       "<table class=\"simpletable\">\n",
       "<tr>\n",
       "      <td></td>         <th>coef</th>     <th>std err</th>      <th>t</th>      <th>P>|t|</th>  <th>[0.025</th>    <th>0.975]</th>  \n",
       "</tr>\n",
       "<tr>\n",
       "  <th>Intercept</th> <td>    2.8367</td> <td>    1.116</td> <td>    2.543</td> <td> 0.027</td> <td>    0.381</td> <td>    5.292</td>\n",
       "</tr>\n",
       "<tr>\n",
       "  <th>LnPrice</th>   <td>    1.1310</td> <td>    0.230</td> <td>    4.926</td> <td> 0.000</td> <td>    0.626</td> <td>    1.636</td>\n",
       "</tr>\n",
       "</table>\n",
       "<table class=\"simpletable\">\n",
       "<tr>\n",
       "  <th>Omnibus:</th>       <td> 4.580</td> <th>  Durbin-Watson:     </th> <td>   0.653</td>\n",
       "</tr>\n",
       "<tr>\n",
       "  <th>Prob(Omnibus):</th> <td> 0.101</td> <th>  Jarque-Bera (JB):  </th> <td>   1.653</td>\n",
       "</tr>\n",
       "<tr>\n",
       "  <th>Skew:</th>          <td>-0.553</td> <th>  Prob(JB):          </th> <td>   0.438</td>\n",
       "</tr>\n",
       "<tr>\n",
       "  <th>Kurtosis:</th>      <td> 4.352</td> <th>  Cond. No.          </th> <td>    215.</td>\n",
       "</tr>\n",
       "</table><br/><br/>Warnings:<br/>[1] Standard Errors assume that the covariance matrix of the errors is correctly specified."
      ],
      "text/plain": [
       "<class 'statsmodels.iolib.summary.Summary'>\n",
       "\"\"\"\n",
       "                            OLS Regression Results                            \n",
       "==============================================================================\n",
       "Dep. Variable:                LnSales   R-squared:                       0.688\n",
       "Model:                            OLS   Adj. R-squared:                  0.660\n",
       "Method:                 Least Squares   F-statistic:                     24.26\n",
       "Date:                Fri, 18 Oct 2019   Prob (F-statistic):           0.000453\n",
       "Time:                        15:04:56   Log-Likelihood:                 13.282\n",
       "No. Observations:                  13   AIC:                            -22.56\n",
       "Df Residuals:                      11   BIC:                            -21.43\n",
       "Df Model:                           1                                         \n",
       "Covariance Type:            nonrobust                                         \n",
       "==============================================================================\n",
       "                 coef    std err          t      P>|t|      [0.025      0.975]\n",
       "------------------------------------------------------------------------------\n",
       "Intercept      2.8367      1.116      2.543      0.027       0.381       5.292\n",
       "LnPrice        1.1310      0.230      4.926      0.000       0.626       1.636\n",
       "==============================================================================\n",
       "Omnibus:                        4.580   Durbin-Watson:                   0.653\n",
       "Prob(Omnibus):                  0.101   Jarque-Bera (JB):                1.653\n",
       "Skew:                          -0.553   Prob(JB):                        0.438\n",
       "Kurtosis:                       4.352   Cond. No.                         215.\n",
       "==============================================================================\n",
       "\n",
       "Warnings:\n",
       "[1] Standard Errors assume that the covariance matrix of the errors is correctly specified.\n",
       "\"\"\""
      ]
     },
     "execution_count": 75,
     "metadata": {},
     "output_type": "execute_result"
    }
   ],
   "source": [
    "result.summary()"
   ]
  },
  {
   "cell_type": "code",
   "execution_count": 96,
   "metadata": {},
   "outputs": [],
   "source": [
    "brand_df = df[df['BrandName'] == 'Absolut']\n",
    "brand_df = brand_df[['LnSales','LnMag','LnNews','LnOut','LnBroad','LnPrint','LnPrice']]"
   ]
  },
  {
   "cell_type": "code",
   "execution_count": 83,
   "metadata": {},
   "outputs": [
    {
     "data": {
      "text/plain": [
       "<matplotlib.axes._subplots.AxesSubplot at 0x239c573d2b0>"
      ]
     },
     "execution_count": 83,
     "metadata": {},
     "output_type": "execute_result"
    },
    {
     "data": {
      "image/png": "[encoded data removed]",
      "text/plain": [
       "<Figure size 432x288 with 1 Axes>"
      ]
     },
     "metadata": {},
     "output_type": "display_data"
    }
   ],
   "source": [
    "#df.columns\n",
    "#sns.kdeplot(df['LnMag'])\n",
    "# 'Mag', 'News', 'Outdoor', 'Broad', 'Print', 'LnMag',\n",
    "#        'LnNews', 'LnOut', 'LnBroad', 'LnPrint'\n",
    "\n",
    "sns.kdeplot(df['Mag'])\n",
    "sns.kdeplot(df['News'])\n",
    "sns.kdeplot(df['Broad'])\n",
    "sns.kdeplot(df['Print'])"
   ]
  },
  {
   "cell_type": "code",
   "execution_count": 95,
   "metadata": {},
   "outputs": [
    {
     "data": {
      "text/plain": [
       "<matplotlib.axes._subplots.AxesSubplot at 0x239c709f7b8>"
      ]
     },
     "execution_count": 95,
     "metadata": {},
     "output_type": "execute_result"
    },
    {
     "data": {
      "image/png": "[encoded data removed]",
      "text/plain": [
       "<Figure size 432x288 with 1 Axes>"
      ]
     },
     "metadata": {},
     "output_type": "display_data"
    }
   ],
   "source": [
    "sns.kdeplot(df['LnMag'])\n",
    "sns.kdeplot(df['LnNews'])\n",
    "sns.kdeplot(df['LnOut'])\n",
    "#sns.kdeplot(df['LnBroad'])\n",
    "sns.kdeplot(df['LnPrint'])"
   ]
  },
  {
   "cell_type": "code",
   "execution_count": 100,
   "metadata": {},
   "outputs": [
    {
     "data": {
      "text/plain": [
       "<matplotlib.axes._subplots.AxesSubplot at 0x239c7269668>"
      ]
     },
     "execution_count": 100,
     "metadata": {},
     "output_type": "execute_result"
    },
    {
     "data": {
      "image/png": "[encoded data removed]",
      "text/plain": [
       "<Figure size 432x288 with 2 Axes>"
      ]
     },
     "metadata": {},
     "output_type": "display_data"
    }
   ],
   "source": [
    "sns.heatmap(brand_df.corr(),annot=True)"
   ]
  },
  {
   "cell_type": "code",
   "execution_count": 106,
   "metadata": {},
   "outputs": [
    {
     "name": "stderr",
     "output_type": "stream",
     "text": [
      "C:\\Users\\yogesh\\Anaconda3\\lib\\site-packages\\scipy\\stats\\stats.py:1394: UserWarning: kurtosistest only valid for n>=20 ... continuing anyway, n=13\n",
      "  \"anyway, n=%i\" % int(n))\n"
     ]
    },
    {
     "data": {
      "text/html": [
       "<table class=\"simpletable\">\n",
       "<caption>OLS Regression Results</caption>\n",
       "<tr>\n",
       "  <th>Dep. Variable:</th>         <td>LnSales</td>     <th>  R-squared:         </th> <td>   0.972</td>\n",
       "</tr>\n",
       "<tr>\n",
       "  <th>Model:</th>                   <td>OLS</td>       <th>  Adj. R-squared:    </th> <td>   0.933</td>\n",
       "</tr>\n",
       "<tr>\n",
       "  <th>Method:</th>             <td>Least Squares</td>  <th>  F-statistic:       </th> <td>   24.84</td>\n",
       "</tr>\n",
       "<tr>\n",
       "  <th>Date:</th>             <td>Fri, 18 Oct 2019</td> <th>  Prob (F-statistic):</th>  <td>0.00135</td>\n",
       "</tr>\n",
       "<tr>\n",
       "  <th>Time:</th>                 <td>15:21:13</td>     <th>  Log-Likelihood:    </th> <td>  28.963</td>\n",
       "</tr>\n",
       "<tr>\n",
       "  <th>No. Observations:</th>      <td>    13</td>      <th>  AIC:               </th> <td>  -41.93</td>\n",
       "</tr>\n",
       "<tr>\n",
       "  <th>Df Residuals:</th>          <td>     5</td>      <th>  BIC:               </th> <td>  -37.41</td>\n",
       "</tr>\n",
       "<tr>\n",
       "  <th>Df Model:</th>              <td>     7</td>      <th>                     </th>     <td> </td>   \n",
       "</tr>\n",
       "<tr>\n",
       "  <th>Covariance Type:</th>      <td>nonrobust</td>    <th>                     </th>     <td> </td>   \n",
       "</tr>\n",
       "</table>\n",
       "<table class=\"simpletable\">\n",
       "<tr>\n",
       "         <td></td>            <th>coef</th>     <th>std err</th>      <th>t</th>      <th>P>|t|</th>  <th>[0.025</th>    <th>0.975]</th>  \n",
       "</tr>\n",
       "<tr>\n",
       "  <th>Intercept</th>       <td>   -8.2128</td> <td>    3.931</td> <td>   -2.089</td> <td> 0.091</td> <td>  -18.317</td> <td>    1.892</td>\n",
       "</tr>\n",
       "<tr>\n",
       "  <th>LnMag</th>           <td>   -0.0110</td> <td>    0.058</td> <td>   -0.190</td> <td> 0.857</td> <td>   -0.160</td> <td>    0.138</td>\n",
       "</tr>\n",
       "<tr>\n",
       "  <th>LnNews</th>          <td>   -0.0056</td> <td>    0.011</td> <td>   -0.515</td> <td> 0.628</td> <td>   -0.034</td> <td>    0.022</td>\n",
       "</tr>\n",
       "<tr>\n",
       "  <th>LnOut</th>           <td>    0.0426</td> <td>    0.097</td> <td>    0.437</td> <td> 0.680</td> <td>   -0.208</td> <td>    0.293</td>\n",
       "</tr>\n",
       "<tr>\n",
       "  <th>LnBroad</th>         <td>    1.6251</td> <td>    0.604</td> <td>    2.692</td> <td> 0.043</td> <td>    0.073</td> <td>    3.177</td>\n",
       "</tr>\n",
       "<tr>\n",
       "  <th>LnPrint</th>         <td>    1.2719</td> <td>    0.444</td> <td>    2.864</td> <td> 0.035</td> <td>    0.130</td> <td>    2.413</td>\n",
       "</tr>\n",
       "<tr>\n",
       "  <th>LnBroad:LnPrint</th> <td>   -0.1586</td> <td>    0.060</td> <td>   -2.638</td> <td> 0.046</td> <td>   -0.313</td> <td>   -0.004</td>\n",
       "</tr>\n",
       "<tr>\n",
       "  <th>LnPrice</th>         <td>    0.6901</td> <td>    0.236</td> <td>    2.919</td> <td> 0.033</td> <td>    0.082</td> <td>    1.298</td>\n",
       "</tr>\n",
       "</table>\n",
       "<table class=\"simpletable\">\n",
       "<tr>\n",
       "  <th>Omnibus:</th>       <td> 1.382</td> <th>  Durbin-Watson:     </th> <td>   1.615</td>\n",
       "</tr>\n",
       "<tr>\n",
       "  <th>Prob(Omnibus):</th> <td> 0.501</td> <th>  Jarque-Bera (JB):  </th> <td>   0.165</td>\n",
       "</tr>\n",
       "<tr>\n",
       "  <th>Skew:</th>          <td>-0.211</td> <th>  Prob(JB):          </th> <td>   0.921</td>\n",
       "</tr>\n",
       "<tr>\n",
       "  <th>Kurtosis:</th>      <td> 3.355</td> <th>  Cond. No.          </th> <td>1.94e+04</td>\n",
       "</tr>\n",
       "</table><br/><br/>Warnings:<br/>[1] Standard Errors assume that the covariance matrix of the errors is correctly specified.<br/>[2] The condition number is large, 1.94e+04. This might indicate that there are<br/>strong multicollinearity or other numerical problems."
      ],
      "text/plain": [
       "<class 'statsmodels.iolib.summary.Summary'>\n",
       "\"\"\"\n",
       "                            OLS Regression Results                            \n",
       "==============================================================================\n",
       "Dep. Variable:                LnSales   R-squared:                       0.972\n",
       "Model:                            OLS   Adj. R-squared:                  0.933\n",
       "Method:                 Least Squares   F-statistic:                     24.84\n",
       "Date:                Fri, 18 Oct 2019   Prob (F-statistic):            0.00135\n",
       "Time:                        15:21:13   Log-Likelihood:                 28.963\n",
       "No. Observations:                  13   AIC:                            -41.93\n",
       "Df Residuals:                       5   BIC:                            -37.41\n",
       "Df Model:                           7                                         \n",
       "Covariance Type:            nonrobust                                         \n",
       "===================================================================================\n",
       "                      coef    std err          t      P>|t|      [0.025      0.975]\n",
       "-----------------------------------------------------------------------------------\n",
       "Intercept          -8.2128      3.931     -2.089      0.091     -18.317       1.892\n",
       "LnMag              -0.0110      0.058     -0.190      0.857      -0.160       0.138\n",
       "LnNews             -0.0056      0.011     -0.515      0.628      -0.034       0.022\n",
       "LnOut               0.0426      0.097      0.437      0.680      -0.208       0.293\n",
       "LnBroad             1.6251      0.604      2.692      0.043       0.073       3.177\n",
       "LnPrint             1.2719      0.444      2.864      0.035       0.130       2.413\n",
       "LnBroad:LnPrint    -0.1586      0.060     -2.638      0.046      -0.313      -0.004\n",
       "LnPrice             0.6901      0.236      2.919      0.033       0.082       1.298\n",
       "==============================================================================\n",
       "Omnibus:                        1.382   Durbin-Watson:                   1.615\n",
       "Prob(Omnibus):                  0.501   Jarque-Bera (JB):                0.165\n",
       "Skew:                          -0.211   Prob(JB):                        0.921\n",
       "Kurtosis:                       3.355   Cond. No.                     1.94e+04\n",
       "==============================================================================\n",
       "\n",
       "Warnings:\n",
       "[1] Standard Errors assume that the covariance matrix of the errors is correctly specified.\n",
       "[2] The condition number is large, 1.94e+04. This might indicate that there are\n",
       "strong multicollinearity or other numerical problems.\n",
       "\"\"\""
      ]
     },
     "execution_count": 106,
     "metadata": {},
     "output_type": "execute_result"
    }
   ],
   "source": [
    "result_ad = sm.ols('LnSales ~ LnMag + LnNews + LnOut + LnBroad*LnPrint + LnPrice',data=brand_df).fit()\n",
    "result_ad.summary()"
   ]
  },
  {
   "cell_type": "code",
   "execution_count": 98,
   "metadata": {},
   "outputs": [
    {
     "name": "stderr",
     "output_type": "stream",
     "text": [
      "C:\\Users\\yogesh\\Anaconda3\\lib\\site-packages\\scipy\\stats\\stats.py:1394: UserWarning: kurtosistest only valid for n>=20 ... continuing anyway, n=13\n",
      "  \"anyway, n=%i\" % int(n))\n"
     ]
    },
    {
     "data": {
      "text/html": [
       "<table class=\"simpletable\">\n",
       "<caption>OLS Regression Results</caption>\n",
       "<tr>\n",
       "  <th>Dep. Variable:</th>         <td>LnSales</td>     <th>  R-squared:         </th> <td>   0.933</td>\n",
       "</tr>\n",
       "<tr>\n",
       "  <th>Model:</th>                   <td>OLS</td>       <th>  Adj. R-squared:    </th> <td>   0.866</td>\n",
       "</tr>\n",
       "<tr>\n",
       "  <th>Method:</th>             <td>Least Squares</td>  <th>  F-statistic:       </th> <td>   13.96</td>\n",
       "</tr>\n",
       "<tr>\n",
       "  <th>Date:</th>             <td>Fri, 18 Oct 2019</td> <th>  Prob (F-statistic):</th>  <td>0.00270</td>\n",
       "</tr>\n",
       "<tr>\n",
       "  <th>Time:</th>                 <td>15:13:22</td>     <th>  Log-Likelihood:    </th> <td>  23.293</td>\n",
       "</tr>\n",
       "<tr>\n",
       "  <th>No. Observations:</th>      <td>    13</td>      <th>  AIC:               </th> <td>  -32.59</td>\n",
       "</tr>\n",
       "<tr>\n",
       "  <th>Df Residuals:</th>          <td>     6</td>      <th>  BIC:               </th> <td>  -28.63</td>\n",
       "</tr>\n",
       "<tr>\n",
       "  <th>Df Model:</th>              <td>     6</td>      <th>                     </th>     <td> </td>   \n",
       "</tr>\n",
       "<tr>\n",
       "  <th>Covariance Type:</th>      <td>nonrobust</td>    <th>                     </th>     <td> </td>   \n",
       "</tr>\n",
       "</table>\n",
       "<table class=\"simpletable\">\n",
       "<tr>\n",
       "      <td></td>         <th>coef</th>     <th>std err</th>      <th>t</th>      <th>P>|t|</th>  <th>[0.025</th>    <th>0.975]</th>  \n",
       "</tr>\n",
       "<tr>\n",
       "  <th>Intercept</th> <td>    1.6613</td> <td>    1.697</td> <td>    0.979</td> <td> 0.365</td> <td>   -2.491</td> <td>    5.814</td>\n",
       "</tr>\n",
       "<tr>\n",
       "  <th>LnMag</th>     <td>    0.0891</td> <td>    0.062</td> <td>    1.438</td> <td> 0.200</td> <td>   -0.062</td> <td>    0.241</td>\n",
       "</tr>\n",
       "<tr>\n",
       "  <th>LnNews</th>    <td>    0.0131</td> <td>    0.012</td> <td>    1.132</td> <td> 0.301</td> <td>   -0.015</td> <td>    0.042</td>\n",
       "</tr>\n",
       "<tr>\n",
       "  <th>LnOut</th>     <td>   -0.1219</td> <td>    0.106</td> <td>   -1.152</td> <td> 0.293</td> <td>   -0.381</td> <td>    0.137</td>\n",
       "</tr>\n",
       "<tr>\n",
       "  <th>LnBroad</th>   <td>    0.0328</td> <td>    0.023</td> <td>    1.413</td> <td> 0.207</td> <td>   -0.024</td> <td>    0.090</td>\n",
       "</tr>\n",
       "<tr>\n",
       "  <th>LnPrint</th>   <td>    0.1101</td> <td>    0.081</td> <td>    1.366</td> <td> 0.221</td> <td>   -0.087</td> <td>    0.307</td>\n",
       "</tr>\n",
       "<tr>\n",
       "  <th>LnPrice</th>   <td>    1.0968</td> <td>    0.253</td> <td>    4.332</td> <td> 0.005</td> <td>    0.477</td> <td>    1.716</td>\n",
       "</tr>\n",
       "</table>\n",
       "<table class=\"simpletable\">\n",
       "<tr>\n",
       "  <th>Omnibus:</th>       <td> 0.747</td> <th>  Durbin-Watson:     </th> <td>   1.648</td>\n",
       "</tr>\n",
       "<tr>\n",
       "  <th>Prob(Omnibus):</th> <td> 0.688</td> <th>  Jarque-Bera (JB):  </th> <td>   0.610</td>\n",
       "</tr>\n",
       "<tr>\n",
       "  <th>Skew:</th>          <td> 0.043</td> <th>  Prob(JB):          </th> <td>   0.737</td>\n",
       "</tr>\n",
       "<tr>\n",
       "  <th>Kurtosis:</th>      <td> 1.942</td> <th>  Cond. No.          </th> <td>1.83e+03</td>\n",
       "</tr>\n",
       "</table><br/><br/>Warnings:<br/>[1] Standard Errors assume that the covariance matrix of the errors is correctly specified.<br/>[2] The condition number is large, 1.83e+03. This might indicate that there are<br/>strong multicollinearity or other numerical problems."
      ],
      "text/plain": [
       "<class 'statsmodels.iolib.summary.Summary'>\n",
       "\"\"\"\n",
       "                            OLS Regression Results                            \n",
       "==============================================================================\n",
       "Dep. Variable:                LnSales   R-squared:                       0.933\n",
       "Model:                            OLS   Adj. R-squared:                  0.866\n",
       "Method:                 Least Squares   F-statistic:                     13.96\n",
       "Date:                Fri, 18 Oct 2019   Prob (F-statistic):            0.00270\n",
       "Time:                        15:13:22   Log-Likelihood:                 23.293\n",
       "No. Observations:                  13   AIC:                            -32.59\n",
       "Df Residuals:                       6   BIC:                            -28.63\n",
       "Df Model:                           6                                         \n",
       "Covariance Type:            nonrobust                                         \n",
       "==============================================================================\n",
       "                 coef    std err          t      P>|t|      [0.025      0.975]\n",
       "------------------------------------------------------------------------------\n",
       "Intercept      1.6613      1.697      0.979      0.365      -2.491       5.814\n",
       "LnMag          0.0891      0.062      1.438      0.200      -0.062       0.241\n",
       "LnNews         0.0131      0.012      1.132      0.301      -0.015       0.042\n",
       "LnOut         -0.1219      0.106     -1.152      0.293      -0.381       0.137\n",
       "LnBroad        0.0328      0.023      1.413      0.207      -0.024       0.090\n",
       "LnPrint        0.1101      0.081      1.366      0.221      -0.087       0.307\n",
       "LnPrice        1.0968      0.253      4.332      0.005       0.477       1.716\n",
       "==============================================================================\n",
       "Omnibus:                        0.747   Durbin-Watson:                   1.648\n",
       "Prob(Omnibus):                  0.688   Jarque-Bera (JB):                0.610\n",
       "Skew:                           0.043   Prob(JB):                        0.737\n",
       "Kurtosis:                       1.942   Cond. No.                     1.83e+03\n",
       "==============================================================================\n",
       "\n",
       "Warnings:\n",
       "[1] Standard Errors assume that the covariance matrix of the errors is correctly specified.\n",
       "[2] The condition number is large, 1.83e+03. This might indicate that there are\n",
       "strong multicollinearity or other numerical problems.\n",
       "\"\"\""
      ]
     },
     "execution_count": 98,
     "metadata": {},
     "output_type": "execute_result"
    }
   ],
   "source": [
    "result_ad = sm.ols('LnSales ~ LnMag + LnNews + LnOut + LnBroad + LnPrint + LnPrice',data=brand_df).fit()\n",
    "result_ad.summary()"
   ]
  },
  {
   "cell_type": "code",
   "execution_count": 168,
   "metadata": {},
   "outputs": [],
   "source": [
    "df2 = pd.read_csv('Advertising.csv')"
   ]
  },
  {
   "cell_type": "code",
   "execution_count": 169,
   "metadata": {},
   "outputs": [],
   "source": [
    "df2.drop(columns='Unnamed: 0',inplace=True)"
   ]
  },
  {
   "cell_type": "code",
   "execution_count": 114,
   "metadata": {},
   "outputs": [
    {
     "data": {
      "text/html": [
       "<div>\n",
       "<style scoped>\n",
       "    .dataframe tbody tr th:only-of-type {\n",
       "        vertical-align: middle;\n",
       "    }\n",
       "\n",
       "    .dataframe tbody tr th {\n",
       "        vertical-align: top;\n",
       "    }\n",
       "\n",
       "    .dataframe thead th {\n",
       "        text-align: right;\n",
       "    }\n",
       "</style>\n",
       "<table border=\"1\" class=\"dataframe\">\n",
       "  <thead>\n",
       "    <tr style=\"text-align: right;\">\n",
       "      <th></th>\n",
       "      <th>TV</th>\n",
       "      <th>radio</th>\n",
       "      <th>newspaper</th>\n",
       "      <th>sales</th>\n",
       "    </tr>\n",
       "  </thead>\n",
       "  <tbody>\n",
       "    <tr>\n",
       "      <th>count</th>\n",
       "      <td>200.000000</td>\n",
       "      <td>200.000000</td>\n",
       "      <td>200.000000</td>\n",
       "      <td>200.000000</td>\n",
       "    </tr>\n",
       "    <tr>\n",
       "      <th>mean</th>\n",
       "      <td>147.042500</td>\n",
       "      <td>23.264000</td>\n",
       "      <td>30.554000</td>\n",
       "      <td>14.022500</td>\n",
       "    </tr>\n",
       "    <tr>\n",
       "      <th>std</th>\n",
       "      <td>85.854236</td>\n",
       "      <td>14.846809</td>\n",
       "      <td>21.778621</td>\n",
       "      <td>5.217457</td>\n",
       "    </tr>\n",
       "    <tr>\n",
       "      <th>min</th>\n",
       "      <td>0.700000</td>\n",
       "      <td>0.000000</td>\n",
       "      <td>0.300000</td>\n",
       "      <td>1.600000</td>\n",
       "    </tr>\n",
       "    <tr>\n",
       "      <th>25%</th>\n",
       "      <td>74.375000</td>\n",
       "      <td>9.975000</td>\n",
       "      <td>12.750000</td>\n",
       "      <td>10.375000</td>\n",
       "    </tr>\n",
       "    <tr>\n",
       "      <th>50%</th>\n",
       "      <td>149.750000</td>\n",
       "      <td>22.900000</td>\n",
       "      <td>25.750000</td>\n",
       "      <td>12.900000</td>\n",
       "    </tr>\n",
       "    <tr>\n",
       "      <th>75%</th>\n",
       "      <td>218.825000</td>\n",
       "      <td>36.525000</td>\n",
       "      <td>45.100000</td>\n",
       "      <td>17.400000</td>\n",
       "    </tr>\n",
       "    <tr>\n",
       "      <th>max</th>\n",
       "      <td>296.400000</td>\n",
       "      <td>49.600000</td>\n",
       "      <td>114.000000</td>\n",
       "      <td>27.000000</td>\n",
       "    </tr>\n",
       "  </tbody>\n",
       "</table>\n",
       "</div>"
      ],
      "text/plain": [
       "               TV       radio   newspaper       sales\n",
       "count  200.000000  200.000000  200.000000  200.000000\n",
       "mean   147.042500   23.264000   30.554000   14.022500\n",
       "std     85.854236   14.846809   21.778621    5.217457\n",
       "min      0.700000    0.000000    0.300000    1.600000\n",
       "25%     74.375000    9.975000   12.750000   10.375000\n",
       "50%    149.750000   22.900000   25.750000   12.900000\n",
       "75%    218.825000   36.525000   45.100000   17.400000\n",
       "max    296.400000   49.600000  114.000000   27.000000"
      ]
     },
     "execution_count": 114,
     "metadata": {},
     "output_type": "execute_result"
    }
   ],
   "source": [
    "df2.describe()"
   ]
  },
  {
   "cell_type": "code",
   "execution_count": 116,
   "metadata": {},
   "outputs": [
    {
     "data": {
      "text/plain": [
       "<matplotlib.axes._subplots.AxesSubplot at 0x239c758e550>"
      ]
     },
     "execution_count": 116,
     "metadata": {},
     "output_type": "execute_result"
    },
    {
     "data": {
      "image/png": "[encoded data removed]",
      "text/plain": [
       "<Figure size 432x288 with 2 Axes>"
      ]
     },
     "metadata": {},
     "output_type": "display_data"
    }
   ],
   "source": [
    "sns.heatmap(df2.corr(),annot=True)"
   ]
  },
  {
   "cell_type": "code",
   "execution_count": 156,
   "metadata": {},
   "outputs": [
    {
     "data": {
      "image/png": "[encoded data removed]",
      "text/plain": [
       "<Figure size 432x288 with 3 Axes>"
      ]
     },
     "metadata": {},
     "output_type": "display_data"
    }
   ],
   "source": [
    "#sns.kdeplot(df2.TV)\n",
    "#sns.kdeplot(df2.radio)\n",
    "#sns.kdeplot(df2.newspaper)\n",
    "\n",
    "fig = plt.figure()\n",
    "ax1 = fig.add_subplot(313)\n",
    "sns.kdeplot(df2.TV)\n",
    "\n",
    "ax2 = fig.add_subplot(323)\n",
    "sns.kdeplot(df2.radio)\n",
    "\n",
    "ax3 = fig.add_subplot(333)\n",
    "sns.kdeplot(df2.newspaper)\n",
    "\n",
    "plt.show()"
   ]
  },
  {
   "cell_type": "code",
   "execution_count": 124,
   "metadata": {},
   "outputs": [
    {
     "data": {
      "text/plain": [
       "<matplotlib.axes._subplots.AxesSubplot at 0x239c88db630>"
      ]
     },
     "execution_count": 124,
     "metadata": {},
     "output_type": "execute_result"
    },
    {
     "data": {
      "image/png": "[encoded data removed]",
      "text/plain": [
       "<Figure size 432x288 with 1 Axes>"
      ]
     },
     "metadata": {},
     "output_type": "display_data"
    }
   ],
   "source": [
    "sns.kdeplot(df2.sales)"
   ]
  },
  {
   "cell_type": "code",
   "execution_count": 131,
   "metadata": {},
   "outputs": [
    {
     "data": {
      "image/png": "[encoded data removed]",
      "text/plain": [
       "<Figure size 432x288 with 3 Axes>"
      ]
     },
     "metadata": {},
     "output_type": "display_data"
    }
   ],
   "source": [
    "from scipy import stats\n",
    "fig = plt.figure()\n",
    "ax1 = fig.add_subplot(311)\n",
    "x = df2['newspaper']\n",
    "prob = stats.probplot(x, dist=stats.norm, plot=ax1)\n",
    "ax1.set_xlabel('')\n",
    "ax1.set_title('Probplot against normal distribution')\n",
    "\n",
    "ax2 = fig.add_subplot(312)\n",
    "y = df2['TV']\n",
    "prob = stats.probplot(y, dist=stats.norm, plot=ax2)\n",
    "ax2.set_xlabel('')\n",
    "ax2.set_title('Probplot against normal distribution')\n",
    "\n",
    "\n",
    "ax3 = fig.add_subplot(313)\n",
    "y = df2['radio']\n",
    "prob = stats.probplot(y, dist=stats.norm, plot=ax3)\n",
    "ax3.set_xlabel('')\n",
    "ax3.set_title('Probplot against normal distribution')\n",
    "plt.show()\n",
    "\n",
    "\n",
    "\n"
   ]
  },
  {
   "cell_type": "code",
   "execution_count": null,
   "metadata": {},
   "outputs": [],
   "source": [
    "plt.scatter(df2[''])"
   ]
  },
  {
   "cell_type": "code",
   "execution_count": 172,
   "metadata": {},
   "outputs": [],
   "source": [
    "df2['newspaper'], _ = stats.boxcox(df2['newspaper'])\n",
    "prob = stats.probplot(df2['newspaper'], dist=stats.norm)"
   ]
  },
  {
   "cell_type": "code",
   "execution_count": 171,
   "metadata": {},
   "outputs": [
    {
     "data": {
      "text/plain": [
       "<matplotlib.axes._subplots.AxesSubplot at 0x239ca4c4898>"
      ]
     },
     "execution_count": 171,
     "metadata": {},
     "output_type": "execute_result"
    },
    {
     "data": {
      "image/png": "[encoded data removed]",
      "text/plain": [
       "<Figure size 432x288 with 1 Axes>"
      ]
     },
     "metadata": {},
     "output_type": "display_data"
    }
   ],
   "source": [
    "sns.kdeplot(np.log(df2['newspaper']))"
   ]
  },
  {
   "cell_type": "code",
   "execution_count": 173,
   "metadata": {},
   "outputs": [
    {
     "data": {
      "text/plain": [
       "<matplotlib.axes._subplots.AxesSubplot at 0x239ca52a748>"
      ]
     },
     "execution_count": 173,
     "metadata": {},
     "output_type": "execute_result"
    },
    {
     "data": {
      "image/png": "[encoded data removed]",
      "text/plain": [
       "<Figure size 432x288 with 1 Axes>"
      ]
     },
     "metadata": {},
     "output_type": "display_data"
    }
   ],
   "source": [
    "sns.kdeplot(df2['newspaper'])"
   ]
  },
  {
   "cell_type": "code",
   "execution_count": 176,
   "metadata": {},
   "outputs": [
    {
     "data": {
      "image/png": "[encoded data removed]",
      "text/plain": [
       "<Figure size 432x288 with 1 Axes>"
      ]
     },
     "metadata": {},
     "output_type": "display_data"
    }
   ],
   "source": [
    "fig = plt.figure()\n",
    "ax1 = fig.add_subplot(111)\n",
    "prob = stats.probplot(df2['newspaper'], dist=stats.norm,plot=ax1)"
   ]
  },
  {
   "cell_type": "code",
   "execution_count": 187,
   "metadata": {},
   "outputs": [
    {
     "data": {
      "text/plain": [
       "<matplotlib.collections.PathCollection at 0x239ca0c1e10>"
      ]
     },
     "execution_count": 187,
     "metadata": {},
     "output_type": "execute_result"
    },
    {
     "data": {
      "image/png": "[encoded data removed]",
      "text/plain": [
       "<Figure size 432x288 with 1 Axes>"
      ]
     },
     "metadata": {},
     "output_type": "display_data"
    }
   ],
   "source": [
    "plt.scatter(df2['TV'],df2['sales'])\n",
    "#plt.scatter(df2['radio'],df2['sales'])\n",
    "#plt.scatter(df2['newspaper'],df2['sales'])"
   ]
  },
  {
   "cell_type": "code",
   "execution_count": 188,
   "metadata": {},
   "outputs": [
    {
     "name": "stdout",
     "output_type": "stream",
     "text": [
      "                            OLS Regression Results                            \n",
      "==============================================================================\n",
      "Dep. Variable:                  sales   R-squared:                       0.897\n",
      "Model:                            OLS   Adj. R-squared:                  0.896\n",
      "Method:                 Least Squares   F-statistic:                     570.2\n",
      "Date:                Fri, 18 Oct 2019   Prob (F-statistic):           1.58e-96\n",
      "Time:                        16:32:26   Log-Likelihood:                -386.19\n",
      "No. Observations:                 200   AIC:                             780.4\n",
      "Df Residuals:                     196   BIC:                             793.6\n",
      "Df Model:                           3                                         \n",
      "Covariance Type:            nonrobust                                         \n",
      "==============================================================================\n",
      "                 coef    std err          t      P>|t|      [0.025      0.975]\n",
      "------------------------------------------------------------------------------\n",
      "Intercept      2.8894      0.361      7.995      0.000       2.177       3.602\n",
      "TV             0.0457      0.001     32.810      0.000       0.043       0.048\n",
      "radio          0.1876      0.008     22.190      0.000       0.171       0.204\n",
      "newspaper      0.0060      0.040      0.152      0.879      -0.072       0.084\n",
      "==============================================================================\n",
      "Omnibus:                       59.670   Durbin-Watson:                   2.078\n",
      "Prob(Omnibus):                  0.000   Jarque-Bera (JB):              146.495\n",
      "Skew:                          -1.320   Prob(JB):                     1.55e-32\n",
      "Kurtosis:                       6.258   Cond. No.                         521.\n",
      "==============================================================================\n",
      "\n",
      "Warnings:\n",
      "[1] Standard Errors assume that the covariance matrix of the errors is correctly specified.\n",
      "                            OLS Regression Results                            \n",
      "==============================================================================\n",
      "Dep. Variable:                  sales   R-squared:                       0.897\n",
      "Model:                            OLS   Adj. R-squared:                  0.896\n",
      "Method:                 Least Squares   F-statistic:                     859.6\n",
      "Date:                Fri, 18 Oct 2019   Prob (F-statistic):           4.83e-98\n",
      "Time:                        16:32:26   Log-Likelihood:                -386.20\n",
      "No. Observations:                 200   AIC:                             778.4\n",
      "Df Residuals:                     197   BIC:                             788.3\n",
      "Df Model:                           2                                         \n",
      "Covariance Type:            nonrobust                                         \n",
      "==============================================================================\n",
      "                 coef    std err          t      P>|t|      [0.025      0.975]\n",
      "------------------------------------------------------------------------------\n",
      "Intercept      2.9211      0.294      9.919      0.000       2.340       3.502\n",
      "TV             0.0458      0.001     32.909      0.000       0.043       0.048\n",
      "radio          0.1880      0.008     23.382      0.000       0.172       0.204\n",
      "==============================================================================\n",
      "Omnibus:                       60.022   Durbin-Watson:                   2.081\n",
      "Prob(Omnibus):                  0.000   Jarque-Bera (JB):              148.679\n",
      "Skew:                          -1.323   Prob(JB):                     5.19e-33\n",
      "Kurtosis:                       6.292   Cond. No.                         425.\n",
      "==============================================================================\n",
      "\n",
      "Warnings:\n",
      "[1] Standard Errors assume that the covariance matrix of the errors is correctly specified.\n",
      "                            OLS Regression Results                            \n",
      "==============================================================================\n",
      "Dep. Variable:                  sales   R-squared:                       0.612\n",
      "Model:                            OLS   Adj. R-squared:                  0.610\n",
      "Method:                 Least Squares   F-statistic:                     312.1\n",
      "Date:                Fri, 18 Oct 2019   Prob (F-statistic):           1.47e-42\n",
      "Time:                        16:32:26   Log-Likelihood:                -519.05\n",
      "No. Observations:                 200   AIC:                             1042.\n",
      "Df Residuals:                     198   BIC:                             1049.\n",
      "Df Model:                           1                                         \n",
      "Covariance Type:            nonrobust                                         \n",
      "==============================================================================\n",
      "                 coef    std err          t      P>|t|      [0.025      0.975]\n",
      "------------------------------------------------------------------------------\n",
      "Intercept      7.0326      0.458     15.360      0.000       6.130       7.935\n",
      "TV             0.0475      0.003     17.668      0.000       0.042       0.053\n",
      "==============================================================================\n",
      "Omnibus:                        0.531   Durbin-Watson:                   1.935\n",
      "Prob(Omnibus):                  0.767   Jarque-Bera (JB):                0.669\n",
      "Skew:                          -0.089   Prob(JB):                        0.716\n",
      "Kurtosis:                       2.779   Cond. No.                         338.\n",
      "==============================================================================\n",
      "\n",
      "Warnings:\n",
      "[1] Standard Errors assume that the covariance matrix of the errors is correctly specified.\n"
     ]
    }
   ],
   "source": [
    "import statsmodels.formula.api as sm\n",
    "model1 = sm.ols(formula=\"sales~TV+radio+newspaper\", data=df2).fit()\n",
    "model2 = sm.ols(formula=\"sales~TV+radio\", data=df2).fit()\n",
    "model3 = sm.ols(formula=\"sales~TV\", data=df2).fit()\n",
    "#sales~TV+radio+newspaper\n",
    "print(model1.summary())\n",
    "print(model2.summary())\n",
    "print(model3.summary())"
   ]
  },
  {
   "cell_type": "code",
   "execution_count": 190,
   "metadata": {},
   "outputs": [
    {
     "data": {
      "text/html": [
       "<div>\n",
       "<style scoped>\n",
       "    .dataframe tbody tr th:only-of-type {\n",
       "        vertical-align: middle;\n",
       "    }\n",
       "\n",
       "    .dataframe tbody tr th {\n",
       "        vertical-align: top;\n",
       "    }\n",
       "\n",
       "    .dataframe thead th {\n",
       "        text-align: right;\n",
       "    }\n",
       "</style>\n",
       "<table border=\"1\" class=\"dataframe\">\n",
       "  <thead>\n",
       "    <tr style=\"text-align: right;\">\n",
       "      <th></th>\n",
       "      <th>Actual</th>\n",
       "      <th>Predicted</th>\n",
       "    </tr>\n",
       "  </thead>\n",
       "  <tbody>\n",
       "    <tr>\n",
       "      <th>0</th>\n",
       "      <td>22.1</td>\n",
       "      <td>20.555465</td>\n",
       "    </tr>\n",
       "    <tr>\n",
       "      <th>1</th>\n",
       "      <td>10.4</td>\n",
       "      <td>12.345362</td>\n",
       "    </tr>\n",
       "    <tr>\n",
       "      <th>2</th>\n",
       "      <td>9.3</td>\n",
       "      <td>12.337018</td>\n",
       "    </tr>\n",
       "    <tr>\n",
       "      <th>3</th>\n",
       "      <td>18.5</td>\n",
       "      <td>17.617116</td>\n",
       "    </tr>\n",
       "    <tr>\n",
       "      <th>4</th>\n",
       "      <td>12.9</td>\n",
       "      <td>13.223908</td>\n",
       "    </tr>\n",
       "    <tr>\n",
       "      <th>5</th>\n",
       "      <td>7.2</td>\n",
       "      <td>12.512084</td>\n",
       "    </tr>\n",
       "    <tr>\n",
       "      <th>6</th>\n",
       "      <td>11.8</td>\n",
       "      <td>11.718212</td>\n",
       "    </tr>\n",
       "    <tr>\n",
       "      <th>7</th>\n",
       "      <td>13.2</td>\n",
       "      <td>12.105516</td>\n",
       "    </tr>\n",
       "    <tr>\n",
       "      <th>8</th>\n",
       "      <td>4.8</td>\n",
       "      <td>3.709379</td>\n",
       "    </tr>\n",
       "    <tr>\n",
       "      <th>9</th>\n",
       "      <td>10.6</td>\n",
       "      <td>12.551697</td>\n",
       "    </tr>\n",
       "  </tbody>\n",
       "</table>\n",
       "</div>"
      ],
      "text/plain": [
       "   Actual  Predicted\n",
       "0    22.1  20.555465\n",
       "1    10.4  12.345362\n",
       "2     9.3  12.337018\n",
       "3    18.5  17.617116\n",
       "4    12.9  13.223908\n",
       "5     7.2  12.512084\n",
       "6    11.8  11.718212\n",
       "7    13.2  12.105516\n",
       "8     4.8   3.709379\n",
       "9    10.6  12.551697"
      ]
     },
     "execution_count": 190,
     "metadata": {},
     "output_type": "execute_result"
    }
   ],
   "source": [
    "y_pred = model2.predict()\n",
    "df_pred = pd.DataFrame({'Actual': df2['sales'], 'Predicted': y_pred})  \n",
    "df_pred.head(10)"
   ]
  },
  {
   "cell_type": "code",
   "execution_count": 197,
   "metadata": {},
   "outputs": [
    {
     "data": {
      "text/plain": [
       "2.784569900338092"
      ]
     },
     "execution_count": 197,
     "metadata": {},
     "output_type": "execute_result"
    },
    {
     "data": {
      "image/png": "[encoded data removed]",
      "text/plain": [
       "<Figure size 432x288 with 1 Axes>"
      ]
     },
     "metadata": {},
     "output_type": "display_data"
    }
   ],
   "source": [
    "from sklearn.metrics import mean_absolute_error,mean_squared_error\n",
    "plt.scatter(df_pred['Actual'],df_pred['Predicted'])\n",
    "\n",
    "mean_absolute_error(df_pred['Actual'],df_pred['Predicted'])\n",
    "mean_squared_error(df_pred['Actual'],df_pred['Predicted'])"
   ]
  }
 ],
 "metadata": {
  "kernelspec": {
   "display_name": "Python 3",
   "language": "python",
   "name": "python3"
  },
  "language_info": {
   "codemirror_mode": {
    "name": "ipython",
    "version": 3
   },
   "file_extension": ".py",
   "mimetype": "text/x-python",
   "name": "python",
   "nbconvert_exporter": "python",
   "pygments_lexer": "ipython3",
   "version": "3.6.5"
  }
 },
 "nbformat": 4,
 "nbformat_minor": 2
}
